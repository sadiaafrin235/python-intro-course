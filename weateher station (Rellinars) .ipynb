{
 "cells": [
  {
   "cell_type": "code",
   "execution_count": null,
   "id": "300c6114-c509-47cb-b585-d8997afd5234",
   "metadata": {},
   "outputs": [],
   "source": [
    "import pandas as pd\n",
    "import numpy as np \n",
    "import matplotlib.pyplot as plt\n",
    "import datetime\n",
    "\n",
    "class PontdeVilomara:\n",
    "    def _init_(self, filename):\n",
    "        self.df = pd.read_csv(filename, delimiter='\\t',header=2)\n",
    "        self.filename = filename    \n",
    "\n",
    "        self.lat = \n",
    "        self.lon =\n",
    "\n",
    "filename = '/data/IMFSE/PythonCourse/PontdeVilomara/WeatherStations/wx_20220716_CastellouDeBages.csv'\n",
    "pdVWs = PontdeVilomara(filename)"
   ]
  },
  {
   "cell_type": "code",
   "execution_count": 19,
   "id": "d6aabece-6a4f-4cb1-8a8c-3d24f3a958f0",
   "metadata": {},
   "outputs": [
    {
     "name": "stdout",
     "output_type": "stream",
     "text": [
      "Latitude and Longitude Data:\n",
      "  Latitude: 41.63286\n",
      "  Longitude: 1.91718\n",
      "\n"
     ]
    }
   ],
   "source": [
    "import pandas as pd\n",
    "import re\n",
    "\n",
    "class PontdeVilomara:\n",
    "    def __init__(self, filename):\n",
    "        self.filename = filename\n",
    "        self.df = self._parse_file()\n",
    "        self.lat = self.df['Latitude']\n",
    "        self.lon = self.df['Longitude']\n",
    "    \n",
    "    def _parse_file(self):\n",
    "        \"\"\"Parse the file to extract latitude and longitude.\"\"\"\n",
    "        data = []\n",
    "        with open(self.filename, 'r') as file:\n",
    "            for line in file:\n",
    "                # Use regular expressions to find latitude and longitude\n",
    "                match = re.search(r'location:\\s*([\\d.-]+),([\\d.-]+)', line)\n",
    "                if match:\n",
    "                    lat, lon = match.groups()\n",
    "                    data.append({'Latitude': float(lat), 'Longitude': float(lon)})\n",
    "        \n",
    "        # Create a DataFrame from the parsed data\n",
    "        df = pd.DataFrame(data)\n",
    "        return df\n",
    "    \n",
    "    def display_data(self):\n",
    "        \"\"\"Display the latitude and longitude data in two rows.\"\"\"\n",
    "        print(\"Latitude and Longitude Data:\")\n",
    "        for index, row in self.df.iterrows():\n",
    "\n",
    "            print(f\"  Latitude: {row['Latitude']}\")\n",
    "            print(f\"  Longitude: {row['Longitude']}\")\n",
    "            print()  # Add a newline for better readability\n",
    "\n",
    "# File path to your data file\n",
    "filename = '/data/IMFSE/PythonCourse/PontdeVilomara/WeatherStations/wx_20220716_Rellinars.csv'\n",
    "\n",
    "# Instantiate the class and display the data\n",
    "pdVWs = PontdeVilomara(filename)\n",
    "pdVWs.display_data()"
   ]
  },
  {
   "cell_type": "code",
   "execution_count": null,
   "id": "9ac025b1-8821-4870-93ff-9d27cbbe7ec1",
   "metadata": {},
   "outputs": [],
   "source": []
  }
 ],
 "metadata": {
  "kernelspec": {
   "display_name": "Python 3 (ipykernel)",
   "language": "python",
   "name": "python3"
  },
  "language_info": {
   "codemirror_mode": {
    "name": "ipython",
    "version": 3
   },
   "file_extension": ".py",
   "mimetype": "text/x-python",
   "name": "python",
   "nbconvert_exporter": "python",
   "pygments_lexer": "ipython3",
   "version": "3.11.2"
  }
 },
 "nbformat": 4,
 "nbformat_minor": 5
}
